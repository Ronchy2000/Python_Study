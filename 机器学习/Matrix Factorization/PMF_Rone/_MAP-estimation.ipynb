{
 "cells": [
  {
   "cell_type": "code",
   "execution_count": 187,
   "id": "660fddf1",
   "metadata": {},
   "outputs": [],
   "source": [
    "import matplotlib.pyplot as plt\n",
    "import numpy as np\n",
    "import pandas as pd\n",
    "from sklearn.metrics import mean_squared_error\n",
    "from sklearn.model_selection import train_test_split"
   ]
  },
  {
   "cell_type": "code",
   "execution_count": 188,
   "id": "5746ef38",
   "metadata": {},
   "outputs": [],
   "source": [
    "df = pd.read_csv('timing_flattern_3列.csv')"
   ]
  },
  {
   "cell_type": "code",
   "execution_count": 189,
   "id": "ad8d0384",
   "metadata": {},
   "outputs": [],
   "source": [
    "def get_ratings_matrix(df, train_size=0.75):\n",
    "    user_to_row = {}\n",
    "    movie_to_column = {}\n",
    "    df_values = df.values[:,1:]\n",
    "    n_dims = 10\n",
    "    parameters = {}\n",
    "\n",
    "    uniq_users = np.unique(df_values[:,0])\n",
    "    uniq_movies = np.unique(df_values[:,1])\n",
    "\n",
    "    for i, user_id in enumerate(uniq_users):\n",
    "        user_to_row[user_id] = i\n",
    "\n",
    "    for j, movie_id in enumerate(uniq_movies):\n",
    "        movie_to_column[movie_id] = j\n",
    "\n",
    "    n_users = len(uniq_users)\n",
    "    n_movies = len(uniq_movies)\n",
    "\n",
    "    R = np.zeros((n_users, n_movies))\n",
    "\n",
    "#     df_copy = df.copy()\n",
    "#     train_set = df_copy.sample(frac=train_size, random_state=0)\n",
    "#     test_set = df_copy.drop(train_set.index)\n",
    "    train_set,test_set = train_test_split(df_values, test_size=0.2)\n",
    "    for r in train_set:\n",
    "        i = r[0]\n",
    "        j = r[1]\n",
    "        R[int(i),int(j)] = r[2]\n",
    "\n",
    "    return R, train_set, test_set, n_dims, n_users, n_movies, user_to_row, movie_to_column\n"
   ]
  },
  {
   "cell_type": "code",
   "execution_count": 190,
   "id": "c12d5606",
   "metadata": {},
   "outputs": [
    {
     "name": "stdout",
     "output_type": "stream",
     "text": [
      "R.shape (1500, 18)\n",
      "n_users: 1500\n",
      "n_movies: 18\n",
      "user_to_row: {0.0: 0, 1.0: 1, 2.0: 2, 3.0: 3, 4.0: 4, 5.0: 5, 6.0: 6, 7.0: 7, 8.0: 8, 9.0: 9, 10.0: 10, 11.0: 11, 12.0: 12, 13.0: 13, 14.0: 14, 15.0: 15, 16.0: 16, 17.0: 17, 18.0: 18, 19.0: 19, 20.0: 20, 21.0: 21, 22.0: 22, 23.0: 23, 24.0: 24, 25.0: 25, 26.0: 26, 27.0: 27, 28.0: 28, 29.0: 29, 30.0: 30, 31.0: 31, 32.0: 32, 33.0: 33, 34.0: 34, 35.0: 35, 36.0: 36, 37.0: 37, 38.0: 38, 39.0: 39, 40.0: 40, 41.0: 41, 42.0: 42, 43.0: 43, 44.0: 44, 45.0: 45, 46.0: 46, 47.0: 47, 48.0: 48, 49.0: 49, 50.0: 50, 51.0: 51, 52.0: 52, 53.0: 53, 54.0: 54, 55.0: 55, 56.0: 56, 57.0: 57, 58.0: 58, 59.0: 59, 60.0: 60, 61.0: 61, 62.0: 62, 63.0: 63, 64.0: 64, 65.0: 65, 66.0: 66, 67.0: 67, 68.0: 68, 69.0: 69, 70.0: 70, 71.0: 71, 72.0: 72, 73.0: 73, 74.0: 74, 75.0: 75, 76.0: 76, 77.0: 77, 78.0: 78, 79.0: 79, 80.0: 80, 81.0: 81, 82.0: 82, 83.0: 83, 84.0: 84, 85.0: 85, 86.0: 86, 87.0: 87, 88.0: 88, 89.0: 89, 90.0: 90, 91.0: 91, 92.0: 92, 93.0: 93, 94.0: 94, 95.0: 95, 96.0: 96, 97.0: 97, 98.0: 98, 99.0: 99, 100.0: 100, 101.0: 101, 102.0: 102, 103.0: 103, 104.0: 104, 105.0: 105, 106.0: 106, 107.0: 107, 108.0: 108, 109.0: 109, 110.0: 110, 111.0: 111, 112.0: 112, 113.0: 113, 114.0: 114, 115.0: 115, 116.0: 116, 117.0: 117, 118.0: 118, 119.0: 119, 120.0: 120, 121.0: 121, 122.0: 122, 123.0: 123, 124.0: 124, 125.0: 125, 126.0: 126, 127.0: 127, 128.0: 128, 129.0: 129, 130.0: 130, 131.0: 131, 132.0: 132, 133.0: 133, 134.0: 134, 135.0: 135, 136.0: 136, 137.0: 137, 138.0: 138, 139.0: 139, 140.0: 140, 141.0: 141, 142.0: 142, 143.0: 143, 144.0: 144, 145.0: 145, 146.0: 146, 147.0: 147, 148.0: 148, 149.0: 149, 150.0: 150, 151.0: 151, 152.0: 152, 153.0: 153, 154.0: 154, 155.0: 155, 156.0: 156, 157.0: 157, 158.0: 158, 159.0: 159, 160.0: 160, 161.0: 161, 162.0: 162, 163.0: 163, 164.0: 164, 165.0: 165, 166.0: 166, 167.0: 167, 168.0: 168, 169.0: 169, 170.0: 170, 171.0: 171, 172.0: 172, 173.0: 173, 174.0: 174, 175.0: 175, 176.0: 176, 177.0: 177, 178.0: 178, 179.0: 179, 180.0: 180, 181.0: 181, 182.0: 182, 183.0: 183, 184.0: 184, 185.0: 185, 186.0: 186, 187.0: 187, 188.0: 188, 189.0: 189, 190.0: 190, 191.0: 191, 192.0: 192, 193.0: 193, 194.0: 194, 195.0: 195, 196.0: 196, 197.0: 197, 198.0: 198, 199.0: 199, 200.0: 200, 201.0: 201, 202.0: 202, 203.0: 203, 204.0: 204, 205.0: 205, 206.0: 206, 207.0: 207, 208.0: 208, 209.0: 209, 210.0: 210, 211.0: 211, 212.0: 212, 213.0: 213, 214.0: 214, 215.0: 215, 216.0: 216, 217.0: 217, 218.0: 218, 219.0: 219, 220.0: 220, 221.0: 221, 222.0: 222, 223.0: 223, 224.0: 224, 225.0: 225, 226.0: 226, 227.0: 227, 228.0: 228, 229.0: 229, 230.0: 230, 231.0: 231, 232.0: 232, 233.0: 233, 234.0: 234, 235.0: 235, 236.0: 236, 237.0: 237, 238.0: 238, 239.0: 239, 240.0: 240, 241.0: 241, 242.0: 242, 243.0: 243, 244.0: 244, 245.0: 245, 246.0: 246, 247.0: 247, 248.0: 248, 249.0: 249, 250.0: 250, 251.0: 251, 252.0: 252, 253.0: 253, 254.0: 254, 255.0: 255, 256.0: 256, 257.0: 257, 258.0: 258, 259.0: 259, 260.0: 260, 261.0: 261, 262.0: 262, 263.0: 263, 264.0: 264, 265.0: 265, 266.0: 266, 267.0: 267, 268.0: 268, 269.0: 269, 270.0: 270, 271.0: 271, 272.0: 272, 273.0: 273, 274.0: 274, 275.0: 275, 276.0: 276, 277.0: 277, 278.0: 278, 279.0: 279, 280.0: 280, 281.0: 281, 282.0: 282, 283.0: 283, 284.0: 284, 285.0: 285, 286.0: 286, 287.0: 287, 288.0: 288, 289.0: 289, 290.0: 290, 291.0: 291, 292.0: 292, 293.0: 293, 294.0: 294, 295.0: 295, 296.0: 296, 297.0: 297, 298.0: 298, 299.0: 299, 300.0: 300, 301.0: 301, 302.0: 302, 303.0: 303, 304.0: 304, 305.0: 305, 306.0: 306, 307.0: 307, 308.0: 308, 309.0: 309, 310.0: 310, 311.0: 311, 312.0: 312, 313.0: 313, 314.0: 314, 315.0: 315, 316.0: 316, 317.0: 317, 318.0: 318, 319.0: 319, 320.0: 320, 321.0: 321, 322.0: 322, 323.0: 323, 324.0: 324, 325.0: 325, 326.0: 326, 327.0: 327, 328.0: 328, 329.0: 329, 330.0: 330, 331.0: 331, 332.0: 332, 333.0: 333, 334.0: 334, 335.0: 335, 336.0: 336, 337.0: 337, 338.0: 338, 339.0: 339, 340.0: 340, 341.0: 341, 342.0: 342, 343.0: 343, 344.0: 344, 345.0: 345, 346.0: 346, 347.0: 347, 348.0: 348, 349.0: 349, 350.0: 350, 351.0: 351, 352.0: 352, 353.0: 353, 354.0: 354, 355.0: 355, 356.0: 356, 357.0: 357, 358.0: 358, 359.0: 359, 360.0: 360, 361.0: 361, 362.0: 362, 363.0: 363, 364.0: 364, 365.0: 365, 366.0: 366, 367.0: 367, 368.0: 368, 369.0: 369, 370.0: 370, 371.0: 371, 372.0: 372, 373.0: 373, 374.0: 374, 375.0: 375, 376.0: 376, 377.0: 377, 378.0: 378, 379.0: 379, 380.0: 380, 381.0: 381, 382.0: 382, 383.0: 383, 384.0: 384, 385.0: 385, 386.0: 386, 387.0: 387, 388.0: 388, 389.0: 389, 390.0: 390, 391.0: 391, 392.0: 392, 393.0: 393, 394.0: 394, 395.0: 395, 396.0: 396, 397.0: 397, 398.0: 398, 399.0: 399, 400.0: 400, 401.0: 401, 402.0: 402, 403.0: 403, 404.0: 404, 405.0: 405, 406.0: 406, 407.0: 407, 408.0: 408, 409.0: 409, 410.0: 410, 411.0: 411, 412.0: 412, 413.0: 413, 414.0: 414, 415.0: 415, 416.0: 416, 417.0: 417, 418.0: 418, 419.0: 419, 420.0: 420, 421.0: 421, 422.0: 422, 423.0: 423, 424.0: 424, 425.0: 425, 426.0: 426, 427.0: 427, 428.0: 428, 429.0: 429, 430.0: 430, 431.0: 431, 432.0: 432, 433.0: 433, 434.0: 434, 435.0: 435, 436.0: 436, 437.0: 437, 438.0: 438, 439.0: 439, 440.0: 440, 441.0: 441, 442.0: 442, 443.0: 443, 444.0: 444, 445.0: 445, 446.0: 446, 447.0: 447, 448.0: 448, 449.0: 449, 450.0: 450, 451.0: 451, 452.0: 452, 453.0: 453, 454.0: 454, 455.0: 455, 456.0: 456, 457.0: 457, 458.0: 458, 459.0: 459, 460.0: 460, 461.0: 461, 462.0: 462, 463.0: 463, 464.0: 464, 465.0: 465, 466.0: 466, 467.0: 467, 468.0: 468, 469.0: 469, 470.0: 470, 471.0: 471, 472.0: 472, 473.0: 473, 474.0: 474, 475.0: 475, 476.0: 476, 477.0: 477, 478.0: 478, 479.0: 479, 480.0: 480, 481.0: 481, 482.0: 482, 483.0: 483, 484.0: 484, 485.0: 485, 486.0: 486, 487.0: 487, 488.0: 488, 489.0: 489, 490.0: 490, 491.0: 491, 492.0: 492, 493.0: 493, 494.0: 494, 495.0: 495, 496.0: 496, 497.0: 497, 498.0: 498, 499.0: 499, 500.0: 500, 501.0: 501, 502.0: 502, 503.0: 503, 504.0: 504, 505.0: 505, 506.0: 506, 507.0: 507, 508.0: 508, 509.0: 509, 510.0: 510, 511.0: 511, 512.0: 512, 513.0: 513, 514.0: 514, 515.0: 515, 516.0: 516, 517.0: 517, 518.0: 518, 519.0: 519, 520.0: 520, 521.0: 521, 522.0: 522, 523.0: 523, 524.0: 524, 525.0: 525, 526.0: 526, 527.0: 527, 528.0: 528, 529.0: 529, 530.0: 530, 531.0: 531, 532.0: 532, 533.0: 533, 534.0: 534, 535.0: 535, 536.0: 536, 537.0: 537, 538.0: 538, 539.0: 539, 540.0: 540, 541.0: 541, 542.0: 542, 543.0: 543, 544.0: 544, 545.0: 545, 546.0: 546, 547.0: 547, 548.0: 548, 549.0: 549, 550.0: 550, 551.0: 551, 552.0: 552, 553.0: 553, 554.0: 554, 555.0: 555, 556.0: 556, 557.0: 557, 558.0: 558, 559.0: 559, 560.0: 560, 561.0: 561, 562.0: 562, 563.0: 563, 564.0: 564, 565.0: 565, 566.0: 566, 567.0: 567, 568.0: 568, 569.0: 569, 570.0: 570, 571.0: 571, 572.0: 572, 573.0: 573, 574.0: 574, 575.0: 575, 576.0: 576, 577.0: 577, 578.0: 578, 579.0: 579, 580.0: 580, 581.0: 581, 582.0: 582, 583.0: 583, 584.0: 584, 585.0: 585, 586.0: 586, 587.0: 587, 588.0: 588, 589.0: 589, 590.0: 590, 591.0: 591, 592.0: 592, 593.0: 593, 594.0: 594, 595.0: 595, 596.0: 596, 597.0: 597, 598.0: 598, 599.0: 599, 600.0: 600, 601.0: 601, 602.0: 602, 603.0: 603, 604.0: 604, 605.0: 605, 606.0: 606, 607.0: 607, 608.0: 608, 609.0: 609, 610.0: 610, 611.0: 611, 612.0: 612, 613.0: 613, 614.0: 614, 615.0: 615, 616.0: 616, 617.0: 617, 618.0: 618, 619.0: 619, 620.0: 620, 621.0: 621, 622.0: 622, 623.0: 623, 624.0: 624, 625.0: 625, 626.0: 626, 627.0: 627, 628.0: 628, 629.0: 629, 630.0: 630, 631.0: 631, 632.0: 632, 633.0: 633, 634.0: 634, 635.0: 635, 636.0: 636, 637.0: 637, 638.0: 638, 639.0: 639, 640.0: 640, 641.0: 641, 642.0: 642, 643.0: 643, 644.0: 644, 645.0: 645, 646.0: 646, 647.0: 647, 648.0: 648, 649.0: 649, 650.0: 650, 651.0: 651, 652.0: 652, 653.0: 653, 654.0: 654, 655.0: 655, 656.0: 656, 657.0: 657, 658.0: 658, 659.0: 659, 660.0: 660, 661.0: 661, 662.0: 662, 663.0: 663, 664.0: 664, 665.0: 665, 666.0: 666, 667.0: 667, 668.0: 668, 669.0: 669, 670.0: 670, 671.0: 671, 672.0: 672, 673.0: 673, 674.0: 674, 675.0: 675, 676.0: 676, 677.0: 677, 678.0: 678, 679.0: 679, 680.0: 680, 681.0: 681, 682.0: 682, 683.0: 683, 684.0: 684, 685.0: 685, 686.0: 686, 687.0: 687, 688.0: 688, 689.0: 689, 690.0: 690, 691.0: 691, 692.0: 692, 693.0: 693, 694.0: 694, 695.0: 695, 696.0: 696, 697.0: 697, 698.0: 698, 699.0: 699, 700.0: 700, 701.0: 701, 702.0: 702, 703.0: 703, 704.0: 704, 705.0: 705, 706.0: 706, 707.0: 707, 708.0: 708, 709.0: 709, 710.0: 710, 711.0: 711, 712.0: 712, 713.0: 713, 714.0: 714, 715.0: 715, 716.0: 716, 717.0: 717, 718.0: 718, 719.0: 719, 720.0: 720, 721.0: 721, 722.0: 722, 723.0: 723, 724.0: 724, 725.0: 725, 726.0: 726, 727.0: 727, 728.0: 728, 729.0: 729, 730.0: 730, 731.0: 731, 732.0: 732, 733.0: 733, 734.0: 734, 735.0: 735, 736.0: 736, 737.0: 737, 738.0: 738, 739.0: 739, 740.0: 740, 741.0: 741, 742.0: 742, 743.0: 743, 744.0: 744, 745.0: 745, 746.0: 746, 747.0: 747, 748.0: 748, 749.0: 749, 750.0: 750, 751.0: 751, 752.0: 752, 753.0: 753, 754.0: 754, 755.0: 755, 756.0: 756, 757.0: 757, 758.0: 758, 759.0: 759, 760.0: 760, 761.0: 761, 762.0: 762, 763.0: 763, 764.0: 764, 765.0: 765, 766.0: 766, 767.0: 767, 768.0: 768, 769.0: 769, 770.0: 770, 771.0: 771, 772.0: 772, 773.0: 773, 774.0: 774, 775.0: 775, 776.0: 776, 777.0: 777, 778.0: 778, 779.0: 779, 780.0: 780, 781.0: 781, 782.0: 782, 783.0: 783, 784.0: 784, 785.0: 785, 786.0: 786, 787.0: 787, 788.0: 788, 789.0: 789, 790.0: 790, 791.0: 791, 792.0: 792, 793.0: 793, 794.0: 794, 795.0: 795, 796.0: 796, 797.0: 797, 798.0: 798, 799.0: 799, 800.0: 800, 801.0: 801, 802.0: 802, 803.0: 803, 804.0: 804, 805.0: 805, 806.0: 806, 807.0: 807, 808.0: 808, 809.0: 809, 810.0: 810, 811.0: 811, 812.0: 812, 813.0: 813, 814.0: 814, 815.0: 815, 816.0: 816, 817.0: 817, 818.0: 818, 819.0: 819, 820.0: 820, 821.0: 821, 822.0: 822, 823.0: 823, 824.0: 824, 825.0: 825, 826.0: 826, 827.0: 827, 828.0: 828, 829.0: 829, 830.0: 830, 831.0: 831, 832.0: 832, 833.0: 833, 834.0: 834, 835.0: 835, 836.0: 836, 837.0: 837, 838.0: 838, 839.0: 839, 840.0: 840, 841.0: 841, 842.0: 842, 843.0: 843, 844.0: 844, 845.0: 845, 846.0: 846, 847.0: 847, 848.0: 848, 849.0: 849, 850.0: 850, 851.0: 851, 852.0: 852, 853.0: 853, 854.0: 854, 855.0: 855, 856.0: 856, 857.0: 857, 858.0: 858, 859.0: 859, 860.0: 860, 861.0: 861, 862.0: 862, 863.0: 863, 864.0: 864, 865.0: 865, 866.0: 866, 867.0: 867, 868.0: 868, 869.0: 869, 870.0: 870, 871.0: 871, 872.0: 872, 873.0: 873, 874.0: 874, 875.0: 875, 876.0: 876, 877.0: 877, 878.0: 878, 879.0: 879, 880.0: 880, 881.0: 881, 882.0: 882, 883.0: 883, 884.0: 884, 885.0: 885, 886.0: 886, 887.0: 887, 888.0: 888, 889.0: 889, 890.0: 890, 891.0: 891, 892.0: 892, 893.0: 893, 894.0: 894, 895.0: 895, 896.0: 896, 897.0: 897, 898.0: 898, 899.0: 899, 900.0: 900, 901.0: 901, 902.0: 902, 903.0: 903, 904.0: 904, 905.0: 905, 906.0: 906, 907.0: 907, 908.0: 908, 909.0: 909, 910.0: 910, 911.0: 911, 912.0: 912, 913.0: 913, 914.0: 914, 915.0: 915, 916.0: 916, 917.0: 917, 918.0: 918, 919.0: 919, 920.0: 920, 921.0: 921, 922.0: 922, 923.0: 923, 924.0: 924, 925.0: 925, 926.0: 926, 927.0: 927, 928.0: 928, 929.0: 929, 930.0: 930, 931.0: 931, 932.0: 932, 933.0: 933, 934.0: 934, 935.0: 935, 936.0: 936, 937.0: 937, 938.0: 938, 939.0: 939, 940.0: 940, 941.0: 941, 942.0: 942, 943.0: 943, 944.0: 944, 945.0: 945, 946.0: 946, 947.0: 947, 948.0: 948, 949.0: 949, 950.0: 950, 951.0: 951, 952.0: 952, 953.0: 953, 954.0: 954, 955.0: 955, 956.0: 956, 957.0: 957, 958.0: 958, 959.0: 959, 960.0: 960, 961.0: 961, 962.0: 962, 963.0: 963, 964.0: 964, 965.0: 965, 966.0: 966, 967.0: 967, 968.0: 968, 969.0: 969, 970.0: 970, 971.0: 971, 972.0: 972, 973.0: 973, 974.0: 974, 975.0: 975, 976.0: 976, 977.0: 977, 978.0: 978, 979.0: 979, 980.0: 980, 981.0: 981, 982.0: 982, 983.0: 983, 984.0: 984, 985.0: 985, 986.0: 986, 987.0: 987, 988.0: 988, 989.0: 989, 990.0: 990, 991.0: 991, 992.0: 992, 993.0: 993, 994.0: 994, 995.0: 995, 996.0: 996, 997.0: 997, 998.0: 998, 999.0: 999, 1000.0: 1000, 1001.0: 1001, 1002.0: 1002, 1003.0: 1003, 1004.0: 1004, 1005.0: 1005, 1006.0: 1006, 1007.0: 1007, 1008.0: 1008, 1009.0: 1009, 1010.0: 1010, 1011.0: 1011, 1012.0: 1012, 1013.0: 1013, 1014.0: 1014, 1015.0: 1015, 1016.0: 1016, 1017.0: 1017, 1018.0: 1018, 1019.0: 1019, 1020.0: 1020, 1021.0: 1021, 1022.0: 1022, 1023.0: 1023, 1024.0: 1024, 1025.0: 1025, 1026.0: 1026, 1027.0: 1027, 1028.0: 1028, 1029.0: 1029, 1030.0: 1030, 1031.0: 1031, 1032.0: 1032, 1033.0: 1033, 1034.0: 1034, 1035.0: 1035, 1036.0: 1036, 1037.0: 1037, 1038.0: 1038, 1039.0: 1039, 1040.0: 1040, 1041.0: 1041, 1042.0: 1042, 1043.0: 1043, 1044.0: 1044, 1045.0: 1045, 1046.0: 1046, 1047.0: 1047, 1048.0: 1048, 1049.0: 1049, 1050.0: 1050, 1051.0: 1051, 1052.0: 1052, 1053.0: 1053, 1054.0: 1054, 1055.0: 1055, 1056.0: 1056, 1057.0: 1057, 1058.0: 1058, 1059.0: 1059, 1060.0: 1060, 1061.0: 1061, 1062.0: 1062, 1063.0: 1063, 1064.0: 1064, 1065.0: 1065, 1066.0: 1066, 1067.0: 1067, 1068.0: 1068, 1069.0: 1069, 1070.0: 1070, 1071.0: 1071, 1072.0: 1072, 1073.0: 1073, 1074.0: 1074, 1075.0: 1075, 1076.0: 1076, 1077.0: 1077, 1078.0: 1078, 1079.0: 1079, 1080.0: 1080, 1081.0: 1081, 1082.0: 1082, 1083.0: 1083, 1084.0: 1084, 1085.0: 1085, 1086.0: 1086, 1087.0: 1087, 1088.0: 1088, 1089.0: 1089, 1090.0: 1090, 1091.0: 1091, 1092.0: 1092, 1093.0: 1093, 1094.0: 1094, 1095.0: 1095, 1096.0: 1096, 1097.0: 1097, 1098.0: 1098, 1099.0: 1099, 1100.0: 1100, 1101.0: 1101, 1102.0: 1102, 1103.0: 1103, 1104.0: 1104, 1105.0: 1105, 1106.0: 1106, 1107.0: 1107, 1108.0: 1108, 1109.0: 1109, 1110.0: 1110, 1111.0: 1111, 1112.0: 1112, 1113.0: 1113, 1114.0: 1114, 1115.0: 1115, 1116.0: 1116, 1117.0: 1117, 1118.0: 1118, 1119.0: 1119, 1120.0: 1120, 1121.0: 1121, 1122.0: 1122, 1123.0: 1123, 1124.0: 1124, 1125.0: 1125, 1126.0: 1126, 1127.0: 1127, 1128.0: 1128, 1129.0: 1129, 1130.0: 1130, 1131.0: 1131, 1132.0: 1132, 1133.0: 1133, 1134.0: 1134, 1135.0: 1135, 1136.0: 1136, 1137.0: 1137, 1138.0: 1138, 1139.0: 1139, 1140.0: 1140, 1141.0: 1141, 1142.0: 1142, 1143.0: 1143, 1144.0: 1144, 1145.0: 1145, 1146.0: 1146, 1147.0: 1147, 1148.0: 1148, 1149.0: 1149, 1150.0: 1150, 1151.0: 1151, 1152.0: 1152, 1153.0: 1153, 1154.0: 1154, 1155.0: 1155, 1156.0: 1156, 1157.0: 1157, 1158.0: 1158, 1159.0: 1159, 1160.0: 1160, 1161.0: 1161, 1162.0: 1162, 1163.0: 1163, 1164.0: 1164, 1165.0: 1165, 1166.0: 1166, 1167.0: 1167, 1168.0: 1168, 1169.0: 1169, 1170.0: 1170, 1171.0: 1171, 1172.0: 1172, 1173.0: 1173, 1174.0: 1174, 1175.0: 1175, 1176.0: 1176, 1177.0: 1177, 1178.0: 1178, 1179.0: 1179, 1180.0: 1180, 1181.0: 1181, 1182.0: 1182, 1183.0: 1183, 1184.0: 1184, 1185.0: 1185, 1186.0: 1186, 1187.0: 1187, 1188.0: 1188, 1189.0: 1189, 1190.0: 1190, 1191.0: 1191, 1192.0: 1192, 1193.0: 1193, 1194.0: 1194, 1195.0: 1195, 1196.0: 1196, 1197.0: 1197, 1198.0: 1198, 1199.0: 1199, 1200.0: 1200, 1201.0: 1201, 1202.0: 1202, 1203.0: 1203, 1204.0: 1204, 1205.0: 1205, 1206.0: 1206, 1207.0: 1207, 1208.0: 1208, 1209.0: 1209, 1210.0: 1210, 1211.0: 1211, 1212.0: 1212, 1213.0: 1213, 1214.0: 1214, 1215.0: 1215, 1216.0: 1216, 1217.0: 1217, 1218.0: 1218, 1219.0: 1219, 1220.0: 1220, 1221.0: 1221, 1222.0: 1222, 1223.0: 1223, 1224.0: 1224, 1225.0: 1225, 1226.0: 1226, 1227.0: 1227, 1228.0: 1228, 1229.0: 1229, 1230.0: 1230, 1231.0: 1231, 1232.0: 1232, 1233.0: 1233, 1234.0: 1234, 1235.0: 1235, 1236.0: 1236, 1237.0: 1237, 1238.0: 1238, 1239.0: 1239, 1240.0: 1240, 1241.0: 1241, 1242.0: 1242, 1243.0: 1243, 1244.0: 1244, 1245.0: 1245, 1246.0: 1246, 1247.0: 1247, 1248.0: 1248, 1249.0: 1249, 1250.0: 1250, 1251.0: 1251, 1252.0: 1252, 1253.0: 1253, 1254.0: 1254, 1255.0: 1255, 1256.0: 1256, 1257.0: 1257, 1258.0: 1258, 1259.0: 1259, 1260.0: 1260, 1261.0: 1261, 1262.0: 1262, 1263.0: 1263, 1264.0: 1264, 1265.0: 1265, 1266.0: 1266, 1267.0: 1267, 1268.0: 1268, 1269.0: 1269, 1270.0: 1270, 1271.0: 1271, 1272.0: 1272, 1273.0: 1273, 1274.0: 1274, 1275.0: 1275, 1276.0: 1276, 1277.0: 1277, 1278.0: 1278, 1279.0: 1279, 1280.0: 1280, 1281.0: 1281, 1282.0: 1282, 1283.0: 1283, 1284.0: 1284, 1285.0: 1285, 1286.0: 1286, 1287.0: 1287, 1288.0: 1288, 1289.0: 1289, 1290.0: 1290, 1291.0: 1291, 1292.0: 1292, 1293.0: 1293, 1294.0: 1294, 1295.0: 1295, 1296.0: 1296, 1297.0: 1297, 1298.0: 1298, 1299.0: 1299, 1300.0: 1300, 1301.0: 1301, 1302.0: 1302, 1303.0: 1303, 1304.0: 1304, 1305.0: 1305, 1306.0: 1306, 1307.0: 1307, 1308.0: 1308, 1309.0: 1309, 1310.0: 1310, 1311.0: 1311, 1312.0: 1312, 1313.0: 1313, 1314.0: 1314, 1315.0: 1315, 1316.0: 1316, 1317.0: 1317, 1318.0: 1318, 1319.0: 1319, 1320.0: 1320, 1321.0: 1321, 1322.0: 1322, 1323.0: 1323, 1324.0: 1324, 1325.0: 1325, 1326.0: 1326, 1327.0: 1327, 1328.0: 1328, 1329.0: 1329, 1330.0: 1330, 1331.0: 1331, 1332.0: 1332, 1333.0: 1333, 1334.0: 1334, 1335.0: 1335, 1336.0: 1336, 1337.0: 1337, 1338.0: 1338, 1339.0: 1339, 1340.0: 1340, 1341.0: 1341, 1342.0: 1342, 1343.0: 1343, 1344.0: 1344, 1345.0: 1345, 1346.0: 1346, 1347.0: 1347, 1348.0: 1348, 1349.0: 1349, 1350.0: 1350, 1351.0: 1351, 1352.0: 1352, 1353.0: 1353, 1354.0: 1354, 1355.0: 1355, 1356.0: 1356, 1357.0: 1357, 1358.0: 1358, 1359.0: 1359, 1360.0: 1360, 1361.0: 1361, 1362.0: 1362, 1363.0: 1363, 1364.0: 1364, 1365.0: 1365, 1366.0: 1366, 1367.0: 1367, 1368.0: 1368, 1369.0: 1369, 1370.0: 1370, 1371.0: 1371, 1372.0: 1372, 1373.0: 1373, 1374.0: 1374, 1375.0: 1375, 1376.0: 1376, 1377.0: 1377, 1378.0: 1378, 1379.0: 1379, 1380.0: 1380, 1381.0: 1381, 1382.0: 1382, 1383.0: 1383, 1384.0: 1384, 1385.0: 1385, 1386.0: 1386, 1387.0: 1387, 1388.0: 1388, 1389.0: 1389, 1390.0: 1390, 1391.0: 1391, 1392.0: 1392, 1393.0: 1393, 1394.0: 1394, 1395.0: 1395, 1396.0: 1396, 1397.0: 1397, 1398.0: 1398, 1399.0: 1399, 1400.0: 1400, 1401.0: 1401, 1402.0: 1402, 1403.0: 1403, 1404.0: 1404, 1405.0: 1405, 1406.0: 1406, 1407.0: 1407, 1408.0: 1408, 1409.0: 1409, 1410.0: 1410, 1411.0: 1411, 1412.0: 1412, 1413.0: 1413, 1414.0: 1414, 1415.0: 1415, 1416.0: 1416, 1417.0: 1417, 1418.0: 1418, 1419.0: 1419, 1420.0: 1420, 1421.0: 1421, 1422.0: 1422, 1423.0: 1423, 1424.0: 1424, 1425.0: 1425, 1426.0: 1426, 1427.0: 1427, 1428.0: 1428, 1429.0: 1429, 1430.0: 1430, 1431.0: 1431, 1432.0: 1432, 1433.0: 1433, 1434.0: 1434, 1435.0: 1435, 1436.0: 1436, 1437.0: 1437, 1438.0: 1438, 1439.0: 1439, 1440.0: 1440, 1441.0: 1441, 1442.0: 1442, 1443.0: 1443, 1444.0: 1444, 1445.0: 1445, 1446.0: 1446, 1447.0: 1447, 1448.0: 1448, 1449.0: 1449, 1450.0: 1450, 1451.0: 1451, 1452.0: 1452, 1453.0: 1453, 1454.0: 1454, 1455.0: 1455, 1456.0: 1456, 1457.0: 1457, 1458.0: 1458, 1459.0: 1459, 1460.0: 1460, 1461.0: 1461, 1462.0: 1462, 1463.0: 1463, 1464.0: 1464, 1465.0: 1465, 1466.0: 1466, 1467.0: 1467, 1468.0: 1468, 1469.0: 1469, 1470.0: 1470, 1471.0: 1471, 1472.0: 1472, 1473.0: 1473, 1474.0: 1474, 1475.0: 1475, 1476.0: 1476, 1477.0: 1477, 1478.0: 1478, 1479.0: 1479, 1480.0: 1480, 1481.0: 1481, 1482.0: 1482, 1483.0: 1483, 1484.0: 1484, 1485.0: 1485, 1486.0: 1486, 1487.0: 1487, 1488.0: 1488, 1489.0: 1489, 1490.0: 1490, 1491.0: 1491, 1492.0: 1492, 1493.0: 1493, 1494.0: 1494, 1495.0: 1495, 1496.0: 1496, 1497.0: 1497, 1498.0: 1498, 1499.0: 1499}\n"
     ]
    }
   ],
   "source": [
    "R, train_set, test_set, n_dims, n_users, n_movies, user_to_row, movie_to_column = get_ratings_matrix(df, 0.8)\n",
    "\n",
    "print(\"R.shape\",R.shape)\n",
    "print(\"n_users:\",n_users)\n",
    "print(\"n_movies:\",n_movies)\n",
    "print(\"user_to_row:\",user_to_row)\n",
    "# print(\"movie_to_column:\",movie_to_column)\n",
    "# print(\"R:\",R)"
   ]
  },
  {
   "cell_type": "code",
   "execution_count": 191,
   "id": "0b458fe3",
   "metadata": {},
   "outputs": [],
   "source": [
    "parameters = {}\n",
    "\n",
    "\n",
    "# 初始化U，V\n",
    "def initialize_parameters(lambda_U, lambda_V):\n",
    "    U = np.zeros((n_dims, n_users), dtype=np.float64)\n",
    "    V = 1000*np.random.normal(0.0, 1.0 / lambda_V, (n_dims, n_movies))\n",
    "    \n",
    "    parameters['U'] = U\n",
    "    parameters['V'] = V\n",
    "    parameters['lambda_U'] = lambda_U\n",
    "    parameters['lambda_V'] = lambda_V"
   ]
  },
  {
   "cell_type": "code",
   "execution_count": 192,
   "id": "c228d6fc",
   "metadata": {},
   "outputs": [],
   "source": [
    "#更新U，V\n",
    "def update_parameters():\n",
    "    U = parameters['U']\n",
    "    V = parameters['V']\n",
    "    lambda_U = parameters['lambda_U']\n",
    "    lambda_V = parameters['lambda_V']\n",
    "    \n",
    "    for i in range(n_users):\n",
    "        V_j = V[:, R[i, :] > 0]\n",
    "        U[:, i] = np.dot(np.linalg.inv(np.dot(V_j, V_j.T) + lambda_U * np.identity(n_dims)), np.dot(R[i, R[i, :] > 0], V_j.T))\n",
    "        \n",
    "    for j in range(n_movies):\n",
    "        U_i = U[:, R[:, j] > 0]\n",
    "        V[:, j] = np.dot(np.linalg.inv(np.dot(U_i, U_i.T) + lambda_V * np.identity(n_dims)), np.dot(R[R[:, j] > 0, j], U_i.T))\n",
    "        \n",
    "    parameters['U'] = U\n",
    "    parameters['V'] = V"
   ]
  },
  {
   "cell_type": "code",
   "execution_count": 193,
   "id": "4725e48d",
   "metadata": {},
   "outputs": [],
   "source": [
    "# let's implement the Log-a posteriori:\n",
    "\n",
    "def log_a_posteriori():\n",
    "    lambda_U = parameters['lambda_U']\n",
    "    lambda_V = parameters['lambda_V']\n",
    "    U = parameters['U']\n",
    "    V = parameters['V']\n",
    "    \n",
    "    UV = np.dot(U.T, V)\n",
    "    R_UV = (R[R > 0] - UV[R > 0])\n",
    "    \n",
    "    return -0.5 * (np.sum(np.dot(R_UV, R_UV.T)) + lambda_U * np.sum(np.dot(U, U.T)) + lambda_V * np.sum(np.dot(V, V.T)))"
   ]
  },
  {
   "cell_type": "markdown",
   "id": "a25a9816",
   "metadata": {},
   "source": [
    "predict function allows us to predict the rating value given the user_id and the movie_id parameters. The value has been scaled within the range 0-5\n"
   ]
  },
  {
   "cell_type": "code",
   "execution_count": 194,
   "id": "6a555cdf",
   "metadata": {},
   "outputs": [],
   "source": [
    "def predict(user_id, movie_id):\n",
    "    U = parameters['U']\n",
    "    V = parameters['V']\n",
    "    \n",
    "#     r_ij = U[:, user_to_row[user_id]].T.reshape(1, -1) @ V[:, movie_to_column[movie_id]].reshape(-1, 1)\n",
    "    r_ij = U[:, user_id].T.reshape(1, -1) @ V[:, movie_id].reshape(-1, 1)\n",
    "    max_rating = parameters['max_rating']\n",
    "    min_rating = parameters['min_rating']\n",
    "\n",
    "    return 0 if max_rating == min_rating else ((r_ij[0][0] - min_rating) / (max_rating - min_rating)) * 2000.0"
   ]
  },
  {
   "cell_type": "markdown",
   "id": "c9f84ff9",
   "metadata": {},
   "source": [
    "The evaluate function will calculate the RMSE of the model given a dataset (train or test).\n"
   ]
  },
  {
   "cell_type": "code",
   "execution_count": 195,
   "id": "1f8fa5b0",
   "metadata": {},
   "outputs": [],
   "source": [
    "#计算 RMSE\n",
    "def evaluate(dataset):\n",
    "    ground_truths = []\n",
    "    predictions = []\n",
    "    \n",
    "#     for index, row in dataset.iterrows():\n",
    "#         ground_truths.append(row.loc['rating'])\n",
    "#         predictions.append(predict(row.loc['userId'], row.loc['movieId']))\n",
    "    for r in dataset:\n",
    "        ground_truths.append(r[2])\n",
    "        predictions.append(predict( int(r[0]),int(r[1]) ))\n",
    "    return mean_squared_error(ground_truths, predictions, squared=False)"
   ]
  },
  {
   "cell_type": "code",
   "execution_count": 196,
   "id": "6008567a",
   "metadata": {},
   "outputs": [],
   "source": [
    "def update_max_min_ratings():\n",
    "    U = parameters['U']\n",
    "    V = parameters['V']\n",
    "\n",
    "    R = U.T @ V\n",
    "    min_rating = np.min(R)\n",
    "    max_rating = np.max(R)\n",
    "\n",
    "    parameters['min_rating'] = min_rating\n",
    "    parameters['max_rating'] = max_rating"
   ]
  },
  {
   "cell_type": "markdown",
   "id": "1430ab58",
   "metadata": {},
   "source": [
    "训练函数\n"
   ]
  },
  {
   "cell_type": "code",
   "execution_count": 197,
   "id": "4a86cd0f",
   "metadata": {},
   "outputs": [],
   "source": [
    "def train(n_epochs):\n",
    "    initialize_parameters(3, 3)\n",
    "    log_aps = []\n",
    "    rmse_train = []\n",
    "    rmse_test = []\n",
    "\n",
    "    update_max_min_ratings()\n",
    "    rmse_train.append(evaluate(train_set))\n",
    "    rmse_test.append(evaluate(test_set))\n",
    "    \n",
    "    for k in range(n_epochs):\n",
    "        update_parameters()\n",
    "        log_ap = log_a_posteriori()\n",
    "        log_aps.append(log_ap)\n",
    "\n",
    "        if (k + 1) % 10 == 0:\n",
    "            update_max_min_ratings()\n",
    "\n",
    "            rmse_train.append(evaluate(train_set))\n",
    "            rmse_test.append(evaluate(test_set))\n",
    "            print('Log p a-posteriori at iteration', k + 1, ':', log_ap)\n",
    "\n",
    "    update_max_min_ratings()\n",
    "\n",
    "    return log_aps, rmse_train, rmse_test"
   ]
  },
  {
   "cell_type": "code",
   "execution_count": 198,
   "id": "833ab8b3",
   "metadata": {},
   "outputs": [
    {
     "name": "stdout",
     "output_type": "stream",
     "text": [
      "Log p a-posteriori at iteration 10 : -637846.2683614471\n",
      "Log p a-posteriori at iteration 20 : -661490.113177748\n",
      "Log p a-posteriori at iteration 30 : -544978.7818193933\n",
      "Log p a-posteriori at iteration 40 : -522246.3612448413\n",
      "Log p a-posteriori at iteration 50 : -521531.0097663896\n",
      "Log p a-posteriori at iteration 60 : -520818.1893848011\n",
      "Log p a-posteriori at iteration 70 : -520107.88778202405\n",
      "Log p a-posteriori at iteration 80 : -519400.09252710437\n",
      "Log p a-posteriori at iteration 90 : -518694.7914679559\n",
      "Log p a-posteriori at iteration 100 : -517991.9724242745\n",
      "Log p a-posteriori at iteration 110 : -517291.6233439299\n",
      "Log p a-posteriori at iteration 120 : -516593.732157255\n",
      "Log p a-posteriori at iteration 130 : -515898.286884979\n",
      "Log p a-posteriori at iteration 140 : -515205.2757385392\n",
      "Log p a-posteriori at iteration 150 : -514514.687012708\n"
     ]
    }
   ],
   "source": [
    "log_ps, rmse_train, rmse_test = train(150)"
   ]
  },
  {
   "cell_type": "markdown",
   "id": "98412d94",
   "metadata": {},
   "source": [
    "画图\n"
   ]
  },
  {
   "cell_type": "code",
   "execution_count": 199,
   "id": "a1d082c9",
   "metadata": {},
   "outputs": [
    {
     "data": {
      "image/png": "[encoded data removed]",
      "text/plain": [
       "<Figure size 1440x720 with 2 Axes>"
      ]
     },
     "metadata": {
      "needs_background": "light"
     },
     "output_type": "display_data"
    }
   ],
   "source": [
    "_, (ax1, ax2) = plt.subplots(1, 2, figsize=(20, 10))\n",
    "plt.title('Training results')\n",
    "ax1.plot(np.arange(len(log_ps)), log_ps, label='MAP')\n",
    "ax1.legend()\n",
    "\n",
    "ax2.plot(np.arange(len(rmse_train)), rmse_train, label='RMSE train')\n",
    "ax2.plot(np.arange(len(rmse_test)), rmse_test, label='RMSE test')\n",
    "ax2.legend()\n",
    "\n",
    "plt.show()"
   ]
  },
  {
   "cell_type": "code",
   "execution_count": 200,
   "id": "1075350f",
   "metadata": {},
   "outputs": [
    {
     "name": "stdout",
     "output_type": "stream",
     "text": [
      "RMSE of training set: 335.6062875207561\n",
      "RMSE of testing set: 332.98651520175076\n"
     ]
    }
   ],
   "source": [
    "print('RMSE of training set:', evaluate(train_set))\n",
    "print('RMSE of testing set:', evaluate(test_set))"
   ]
  },
  {
   "cell_type": "code",
   "execution_count": null,
   "id": "4c8309cd",
   "metadata": {},
   "outputs": [],
   "source": []
  }
 ],
 "metadata": {
  "kernelspec": {
   "display_name": "Python [conda env:myML] *",
   "language": "python",
   "name": "conda-env-myML-py"
  },
  "language_info": {
   "codemirror_mode": {
    "name": "ipython",
    "version": 3
   },
   "file_extension": ".py",
   "mimetype": "text/x-python",
   "name": "python",
   "nbconvert_exporter": "python",
   "pygments_lexer": "ipython3",
   "version": "3.9.12"
  }
 },
 "nbformat": 4,
 "nbformat_minor": 5
}
